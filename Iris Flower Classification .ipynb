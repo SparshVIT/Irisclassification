{
 "cells": [
  {
   "cell_type": "markdown",
   "id": "d33344cb",
   "metadata": {},
   "source": [
    "# IRIS FLOWER CLASSIFICATION \n"
   ]
  },
  {
   "cell_type": "markdown",
   "id": "810fbd1e",
   "metadata": {},
   "source": [
    "**By-Sparsh Jain**"
   ]
  },
  {
   "cell_type": "markdown",
   "id": "cc4583f4",
   "metadata": {},
   "source": [
    "**IMPORT IMPORTANT MODULES**"
   ]
  },
  {
   "cell_type": "code",
   "execution_count": 2,
   "id": "f6d4b108",
   "metadata": {},
   "outputs": [],
   "source": [
    "import numpy as np\n",
    "import pandas as pd\n",
    "import matplotlib.pyplot as plt\n",
    "import seaborn as sns"
   ]
  },
  {
   "cell_type": "markdown",
   "id": "9d8602bc",
   "metadata": {},
   "source": [
    "**Importing the data**"
   ]
  },
  {
   "cell_type": "code",
   "execution_count": 3,
   "id": "596e2e8b",
   "metadata": {},
   "outputs": [],
   "source": [
    "data = pd.read_csv(r\"D:\\sparsh\\Iris.csv\")"
   ]
  },
  {
   "cell_type": "markdown",
   "id": "d5fa1984",
   "metadata": {},
   "source": [
    "The attributes which help us to reach our target are \n",
    "1. Sepal Length in cm\n",
    "2. Sepal Width in cm\n",
    "3. Petal Length in cm\n",
    "4. Petal Width in cm\n",
    "and our target variable is Species"
   ]
  },
  {
   "cell_type": "code",
   "execution_count": 4,
   "id": "330a8649",
   "metadata": {},
   "outputs": [
    {
     "data": {
      "text/html": [
       "<div>\n",
       "<style scoped>\n",
       "    .dataframe tbody tr th:only-of-type {\n",
       "        vertical-align: middle;\n",
       "    }\n",
       "\n",
       "    .dataframe tbody tr th {\n",
       "        vertical-align: top;\n",
       "    }\n",
       "\n",
       "    .dataframe thead th {\n",
       "        text-align: right;\n",
       "    }\n",
       "</style>\n",
       "<table border=\"1\" class=\"dataframe\">\n",
       "  <thead>\n",
       "    <tr style=\"text-align: right;\">\n",
       "      <th></th>\n",
       "      <th>Id</th>\n",
       "      <th>SepalLengthCm</th>\n",
       "      <th>SepalWidthCm</th>\n",
       "      <th>PetalLengthCm</th>\n",
       "      <th>PetalWidthCm</th>\n",
       "      <th>Species</th>\n",
       "    </tr>\n",
       "  </thead>\n",
       "  <tbody>\n",
       "    <tr>\n",
       "      <th>0</th>\n",
       "      <td>1</td>\n",
       "      <td>5.1</td>\n",
       "      <td>3.5</td>\n",
       "      <td>1.4</td>\n",
       "      <td>0.2</td>\n",
       "      <td>Iris-setosa</td>\n",
       "    </tr>\n",
       "    <tr>\n",
       "      <th>1</th>\n",
       "      <td>2</td>\n",
       "      <td>4.9</td>\n",
       "      <td>3.0</td>\n",
       "      <td>1.4</td>\n",
       "      <td>0.2</td>\n",
       "      <td>Iris-setosa</td>\n",
       "    </tr>\n",
       "    <tr>\n",
       "      <th>2</th>\n",
       "      <td>3</td>\n",
       "      <td>4.7</td>\n",
       "      <td>3.2</td>\n",
       "      <td>1.3</td>\n",
       "      <td>0.2</td>\n",
       "      <td>Iris-setosa</td>\n",
       "    </tr>\n",
       "    <tr>\n",
       "      <th>3</th>\n",
       "      <td>4</td>\n",
       "      <td>4.6</td>\n",
       "      <td>3.1</td>\n",
       "      <td>1.5</td>\n",
       "      <td>0.2</td>\n",
       "      <td>Iris-setosa</td>\n",
       "    </tr>\n",
       "    <tr>\n",
       "      <th>4</th>\n",
       "      <td>5</td>\n",
       "      <td>5.0</td>\n",
       "      <td>3.6</td>\n",
       "      <td>1.4</td>\n",
       "      <td>0.2</td>\n",
       "      <td>Iris-setosa</td>\n",
       "    </tr>\n",
       "  </tbody>\n",
       "</table>\n",
       "</div>"
      ],
      "text/plain": [
       "   Id  SepalLengthCm  SepalWidthCm  PetalLengthCm  PetalWidthCm      Species\n",
       "0   1            5.1           3.5            1.4           0.2  Iris-setosa\n",
       "1   2            4.9           3.0            1.4           0.2  Iris-setosa\n",
       "2   3            4.7           3.2            1.3           0.2  Iris-setosa\n",
       "3   4            4.6           3.1            1.5           0.2  Iris-setosa\n",
       "4   5            5.0           3.6            1.4           0.2  Iris-setosa"
      ]
     },
     "execution_count": 4,
     "metadata": {},
     "output_type": "execute_result"
    }
   ],
   "source": [
    "data.head()"
   ]
  },
  {
   "cell_type": "code",
   "execution_count": 5,
   "id": "9deda463",
   "metadata": {},
   "outputs": [],
   "source": [
    "data = data.drop('Id', axis=1)"
   ]
  },
  {
   "cell_type": "markdown",
   "id": "875fadfe",
   "metadata": {},
   "source": [
    "**To get the statistics of data**"
   ]
  },
  {
   "cell_type": "code",
   "execution_count": 6,
   "id": "8cf15875",
   "metadata": {},
   "outputs": [
    {
     "data": {
      "text/html": [
       "<div>\n",
       "<style scoped>\n",
       "    .dataframe tbody tr th:only-of-type {\n",
       "        vertical-align: middle;\n",
       "    }\n",
       "\n",
       "    .dataframe tbody tr th {\n",
       "        vertical-align: top;\n",
       "    }\n",
       "\n",
       "    .dataframe thead th {\n",
       "        text-align: right;\n",
       "    }\n",
       "</style>\n",
       "<table border=\"1\" class=\"dataframe\">\n",
       "  <thead>\n",
       "    <tr style=\"text-align: right;\">\n",
       "      <th></th>\n",
       "      <th>SepalLengthCm</th>\n",
       "      <th>SepalWidthCm</th>\n",
       "      <th>PetalLengthCm</th>\n",
       "      <th>PetalWidthCm</th>\n",
       "    </tr>\n",
       "  </thead>\n",
       "  <tbody>\n",
       "    <tr>\n",
       "      <th>count</th>\n",
       "      <td>150.000000</td>\n",
       "      <td>150.000000</td>\n",
       "      <td>150.000000</td>\n",
       "      <td>150.000000</td>\n",
       "    </tr>\n",
       "    <tr>\n",
       "      <th>mean</th>\n",
       "      <td>5.843333</td>\n",
       "      <td>3.054000</td>\n",
       "      <td>3.758667</td>\n",
       "      <td>1.198667</td>\n",
       "    </tr>\n",
       "    <tr>\n",
       "      <th>std</th>\n",
       "      <td>0.828066</td>\n",
       "      <td>0.433594</td>\n",
       "      <td>1.764420</td>\n",
       "      <td>0.763161</td>\n",
       "    </tr>\n",
       "    <tr>\n",
       "      <th>min</th>\n",
       "      <td>4.300000</td>\n",
       "      <td>2.000000</td>\n",
       "      <td>1.000000</td>\n",
       "      <td>0.100000</td>\n",
       "    </tr>\n",
       "    <tr>\n",
       "      <th>25%</th>\n",
       "      <td>5.100000</td>\n",
       "      <td>2.800000</td>\n",
       "      <td>1.600000</td>\n",
       "      <td>0.300000</td>\n",
       "    </tr>\n",
       "    <tr>\n",
       "      <th>50%</th>\n",
       "      <td>5.800000</td>\n",
       "      <td>3.000000</td>\n",
       "      <td>4.350000</td>\n",
       "      <td>1.300000</td>\n",
       "    </tr>\n",
       "    <tr>\n",
       "      <th>75%</th>\n",
       "      <td>6.400000</td>\n",
       "      <td>3.300000</td>\n",
       "      <td>5.100000</td>\n",
       "      <td>1.800000</td>\n",
       "    </tr>\n",
       "    <tr>\n",
       "      <th>max</th>\n",
       "      <td>7.900000</td>\n",
       "      <td>4.400000</td>\n",
       "      <td>6.900000</td>\n",
       "      <td>2.500000</td>\n",
       "    </tr>\n",
       "  </tbody>\n",
       "</table>\n",
       "</div>"
      ],
      "text/plain": [
       "       SepalLengthCm  SepalWidthCm  PetalLengthCm  PetalWidthCm\n",
       "count     150.000000    150.000000     150.000000    150.000000\n",
       "mean        5.843333      3.054000       3.758667      1.198667\n",
       "std         0.828066      0.433594       1.764420      0.763161\n",
       "min         4.300000      2.000000       1.000000      0.100000\n",
       "25%         5.100000      2.800000       1.600000      0.300000\n",
       "50%         5.800000      3.000000       4.350000      1.300000\n",
       "75%         6.400000      3.300000       5.100000      1.800000\n",
       "max         7.900000      4.400000       6.900000      2.500000"
      ]
     },
     "execution_count": 6,
     "metadata": {},
     "output_type": "execute_result"
    }
   ],
   "source": [
    "data.describe()"
   ]
  },
  {
   "cell_type": "markdown",
   "id": "abc786f9",
   "metadata": {},
   "source": [
    "**Information of the data**"
   ]
  },
  {
   "cell_type": "code",
   "execution_count": 7,
   "id": "c05a11da",
   "metadata": {},
   "outputs": [
    {
     "name": "stdout",
     "output_type": "stream",
     "text": [
      "<class 'pandas.core.frame.DataFrame'>\n",
      "RangeIndex: 150 entries, 0 to 149\n",
      "Data columns (total 5 columns):\n",
      " #   Column         Non-Null Count  Dtype  \n",
      "---  ------         --------------  -----  \n",
      " 0   SepalLengthCm  150 non-null    float64\n",
      " 1   SepalWidthCm   150 non-null    float64\n",
      " 2   PetalLengthCm  150 non-null    float64\n",
      " 3   PetalWidthCm   150 non-null    float64\n",
      " 4   Species        150 non-null    object \n",
      "dtypes: float64(4), object(1)\n",
      "memory usage: 6.0+ KB\n"
     ]
    }
   ],
   "source": [
    "data.info()"
   ]
  },
  {
   "cell_type": "markdown",
   "id": "30ad8def",
   "metadata": {},
   "source": [
    "**If we want to know that for each sample how many flowers do we have**"
   ]
  },
  {
   "cell_type": "code",
   "execution_count": 8,
   "id": "cbae8c46",
   "metadata": {},
   "outputs": [
    {
     "data": {
      "text/plain": [
       "Iris-setosa        50\n",
       "Iris-versicolor    50\n",
       "Iris-virginica     50\n",
       "Name: Species, dtype: int64"
      ]
     },
     "execution_count": 8,
     "metadata": {},
     "output_type": "execute_result"
    }
   ],
   "source": [
    "data['Species'].value_counts()"
   ]
  },
  {
   "cell_type": "code",
   "execution_count": 9,
   "id": "9a6df614",
   "metadata": {},
   "outputs": [
    {
     "data": {
      "text/plain": [
       "SepalLengthCm    0\n",
       "SepalWidthCm     0\n",
       "PetalLengthCm    0\n",
       "PetalWidthCm     0\n",
       "Species          0\n",
       "dtype: int64"
      ]
     },
     "execution_count": 9,
     "metadata": {},
     "output_type": "execute_result"
    }
   ],
   "source": [
    "#checking for null values\n",
    "data.isnull().sum()"
   ]
  },
  {
   "cell_type": "markdown",
   "id": "7b1e2439",
   "metadata": {},
   "source": [
    "**Visualising the Data**"
   ]
  },
  {
   "cell_type": "code",
   "execution_count": 10,
   "id": "8a9921fe",
   "metadata": {},
   "outputs": [
    {
     "data": {
      "text/plain": [
       "<AxesSubplot:>"
      ]
     },
     "execution_count": 10,
     "metadata": {},
     "output_type": "execute_result"
    },
    {
     "data": {
      "image/png": "[encoded data removed]",
      "text/plain": [
       "<Figure size 432x288 with 1 Axes>"
      ]
     },
     "metadata": {
      "needs_background": "light"
     },
     "output_type": "display_data"
    }
   ],
   "source": [
    "data['SepalLengthCm'].hist()"
   ]
  },
  {
   "cell_type": "code",
   "execution_count": 11,
   "id": "3ee3ffd4",
   "metadata": {},
   "outputs": [
    {
     "data": {
      "text/plain": [
       "<AxesSubplot:>"
      ]
     },
     "execution_count": 11,
     "metadata": {},
     "output_type": "execute_result"
    },
    {
     "data": {
      "image/png": "[encoded data removed]",
      "text/plain": [
       "<Figure size 432x288 with 1 Axes>"
      ]
     },
     "metadata": {
      "needs_background": "light"
     },
     "output_type": "display_data"
    }
   ],
   "source": [
    "data['SepalWidthCm'].hist()"
   ]
  },
  {
   "cell_type": "markdown",
   "id": "5ad802e6",
   "metadata": {},
   "source": [
    "**Conclusion - A perfect Normal Distribution**"
   ]
  },
  {
   "cell_type": "code",
   "execution_count": 12,
   "id": "87fcb1a6",
   "metadata": {},
   "outputs": [
    {
     "data": {
      "text/plain": [
       "<AxesSubplot:>"
      ]
     },
     "execution_count": 12,
     "metadata": {},
     "output_type": "execute_result"
    },
    {
     "data": {
      "image/png": "[encoded data removed]",
      "text/plain": [
       "<Figure size 432x288 with 1 Axes>"
      ]
     },
     "metadata": {
      "needs_background": "light"
     },
     "output_type": "display_data"
    }
   ],
   "source": [
    "data['PetalLengthCm'].hist()"
   ]
  },
  {
   "cell_type": "code",
   "execution_count": 13,
   "id": "c4a2d916",
   "metadata": {},
   "outputs": [
    {
     "data": {
      "text/plain": [
       "<AxesSubplot:>"
      ]
     },
     "execution_count": 13,
     "metadata": {},
     "output_type": "execute_result"
    },
    {
     "data": {
      "image/png": "[encoded data removed]",
      "text/plain": [
       "<Figure size 432x288 with 1 Axes>"
      ]
     },
     "metadata": {
      "needs_background": "light"
     },
     "output_type": "display_data"
    }
   ],
   "source": [
    "data['PetalWidthCm'].hist()"
   ]
  },
  {
   "cell_type": "markdown",
   "id": "4104673f",
   "metadata": {},
   "source": [
    "**By looking at last and second last histogram it can be said that one species is totally seperable hence lets confirm it with another type of visualisation** "
   ]
  },
  {
   "cell_type": "code",
   "execution_count": 14,
   "id": "63925def",
   "metadata": {},
   "outputs": [
    {
     "data": {
      "text/plain": [
       "array(['Iris-setosa', 'Iris-versicolor', 'Iris-virginica'], dtype=object)"
      ]
     },
     "execution_count": 14,
     "metadata": {},
     "output_type": "execute_result"
    }
   ],
   "source": [
    "data['Species'].unique()"
   ]
  },
  {
   "cell_type": "code",
   "execution_count": 15,
   "id": "0938b8a8",
   "metadata": {},
   "outputs": [],
   "source": [
    "color = ['red','blue', 'green']\n",
    "species = ['Iris-setosa', 'Iris-versicolor', 'Iris-virginica']"
   ]
  },
  {
   "cell_type": "markdown",
   "id": "5d890a7a",
   "metadata": {},
   "source": [
    "**Plotting the scatter plot between the species length and species width**"
   ]
  },
  {
   "cell_type": "code",
   "execution_count": 16,
   "id": "e42c3c31",
   "metadata": {},
   "outputs": [
    {
     "data": {
      "text/plain": [
       "<matplotlib.legend.Legend at 0x1ad66e10070>"
      ]
     },
     "execution_count": 16,
     "metadata": {},
     "output_type": "execute_result"
    },
    {
     "data": {
      "image/png": "[encoded data removed]",
      "text/plain": [
       "<Figure size 432x288 with 1 Axes>"
      ]
     },
     "metadata": {
      "needs_background": "light"
     },
     "output_type": "display_data"
    }
   ],
   "source": [
    "for i in range(3):\n",
    "    x = data[data['Species']==species[i]]\n",
    "    plt.scatter(x['SepalLengthCm'],x['SepalWidthCm'], c = color[i], label=species[i])\n",
    "plt.xlabel('Sepal Length')\n",
    "plt.ylabel('Sepal Width')\n",
    "plt.legend()"
   ]
  },
  {
   "cell_type": "code",
   "execution_count": 17,
   "id": "601e34cd",
   "metadata": {},
   "outputs": [
    {
     "data": {
      "text/plain": [
       "<matplotlib.legend.Legend at 0x1ad66f9d730>"
      ]
     },
     "execution_count": 17,
     "metadata": {},
     "output_type": "execute_result"
    },
    {
     "data": {
      "image/png": "[encoded data removed]",
      "text/plain": [
       "<Figure size 432x288 with 1 Axes>"
      ]
     },
     "metadata": {
      "needs_background": "light"
     },
     "output_type": "display_data"
    }
   ],
   "source": [
    "for i in range(3):\n",
    "    x = data[data['Species']==species[i]]\n",
    "    plt.scatter(x['PetalLengthCm'],x['PetalWidthCm'], c = color[i], label=species[i])\n",
    "plt.xlabel('Sepal Length')\n",
    "plt.ylabel('Sepal Width')\n",
    "plt.legend()"
   ]
  },
  {
   "cell_type": "markdown",
   "id": "d54dfb2a",
   "metadata": {},
   "source": [
    "**Here it proves that one class is totally seperable from one another which is Iris-sentosa**"
   ]
  },
  {
   "cell_type": "markdown",
   "id": "45b640ad",
   "metadata": {},
   "source": [
    "**Correlation**"
   ]
  },
  {
   "cell_type": "code",
   "execution_count": 18,
   "id": "7f6c080f",
   "metadata": {},
   "outputs": [
    {
     "data": {
      "text/plain": [
       "<AxesSubplot:>"
      ]
     },
     "execution_count": 18,
     "metadata": {},
     "output_type": "execute_result"
    },
    {
     "data": {
      "image/png": "[encoded data removed]",
      "text/plain": [
       "<Figure size 360x360 with 2 Axes>"
      ]
     },
     "metadata": {
      "needs_background": "light"
     },
     "output_type": "display_data"
    }
   ],
   "source": [
    "corr = data.corr()\n",
    "fig, ax = plt.subplots(figsize=(5,5))\n",
    "sns.heatmap(corr, annot=True, ax=ax)"
   ]
  },
  {
   "cell_type": "markdown",
   "id": "2f6c6c50",
   "metadata": {},
   "source": [
    "**now we need to label the strings into the numeric form so that the data can be trained**"
   ]
  },
  {
   "cell_type": "code",
   "execution_count": 19,
   "id": "f3dfc8ef",
   "metadata": {},
   "outputs": [],
   "source": [
    "from sklearn.preprocessing import LabelEncoder"
   ]
  },
  {
   "cell_type": "code",
   "execution_count": 20,
   "id": "80f46715",
   "metadata": {},
   "outputs": [],
   "source": [
    "le = LabelEncoder()"
   ]
  },
  {
   "cell_type": "code",
   "execution_count": 21,
   "id": "5df1b044",
   "metadata": {},
   "outputs": [],
   "source": [
    "data['Species'] = le.fit_transform(data['Species'])"
   ]
  },
  {
   "cell_type": "code",
   "execution_count": 22,
   "id": "d9987834",
   "metadata": {},
   "outputs": [
    {
     "data": {
      "text/html": [
       "<div>\n",
       "<style scoped>\n",
       "    .dataframe tbody tr th:only-of-type {\n",
       "        vertical-align: middle;\n",
       "    }\n",
       "\n",
       "    .dataframe tbody tr th {\n",
       "        vertical-align: top;\n",
       "    }\n",
       "\n",
       "    .dataframe thead th {\n",
       "        text-align: right;\n",
       "    }\n",
       "</style>\n",
       "<table border=\"1\" class=\"dataframe\">\n",
       "  <thead>\n",
       "    <tr style=\"text-align: right;\">\n",
       "      <th></th>\n",
       "      <th>SepalLengthCm</th>\n",
       "      <th>SepalWidthCm</th>\n",
       "      <th>PetalLengthCm</th>\n",
       "      <th>PetalWidthCm</th>\n",
       "      <th>Species</th>\n",
       "    </tr>\n",
       "  </thead>\n",
       "  <tbody>\n",
       "    <tr>\n",
       "      <th>145</th>\n",
       "      <td>6.7</td>\n",
       "      <td>3.0</td>\n",
       "      <td>5.2</td>\n",
       "      <td>2.3</td>\n",
       "      <td>2</td>\n",
       "    </tr>\n",
       "    <tr>\n",
       "      <th>146</th>\n",
       "      <td>6.3</td>\n",
       "      <td>2.5</td>\n",
       "      <td>5.0</td>\n",
       "      <td>1.9</td>\n",
       "      <td>2</td>\n",
       "    </tr>\n",
       "    <tr>\n",
       "      <th>147</th>\n",
       "      <td>6.5</td>\n",
       "      <td>3.0</td>\n",
       "      <td>5.2</td>\n",
       "      <td>2.0</td>\n",
       "      <td>2</td>\n",
       "    </tr>\n",
       "    <tr>\n",
       "      <th>148</th>\n",
       "      <td>6.2</td>\n",
       "      <td>3.4</td>\n",
       "      <td>5.4</td>\n",
       "      <td>2.3</td>\n",
       "      <td>2</td>\n",
       "    </tr>\n",
       "    <tr>\n",
       "      <th>149</th>\n",
       "      <td>5.9</td>\n",
       "      <td>3.0</td>\n",
       "      <td>5.1</td>\n",
       "      <td>1.8</td>\n",
       "      <td>2</td>\n",
       "    </tr>\n",
       "  </tbody>\n",
       "</table>\n",
       "</div>"
      ],
      "text/plain": [
       "     SepalLengthCm  SepalWidthCm  PetalLengthCm  PetalWidthCm  Species\n",
       "145            6.7           3.0            5.2           2.3        2\n",
       "146            6.3           2.5            5.0           1.9        2\n",
       "147            6.5           3.0            5.2           2.0        2\n",
       "148            6.2           3.4            5.4           2.3        2\n",
       "149            5.9           3.0            5.1           1.8        2"
      ]
     },
     "execution_count": 22,
     "metadata": {},
     "output_type": "execute_result"
    }
   ],
   "source": [
    "data.tail()"
   ]
  },
  {
   "cell_type": "code",
   "execution_count": 23,
   "id": "7636564b",
   "metadata": {},
   "outputs": [
    {
     "data": {
      "text/html": [
       "<div>\n",
       "<style scoped>\n",
       "    .dataframe tbody tr th:only-of-type {\n",
       "        vertical-align: middle;\n",
       "    }\n",
       "\n",
       "    .dataframe tbody tr th {\n",
       "        vertical-align: top;\n",
       "    }\n",
       "\n",
       "    .dataframe thead th {\n",
       "        text-align: right;\n",
       "    }\n",
       "</style>\n",
       "<table border=\"1\" class=\"dataframe\">\n",
       "  <thead>\n",
       "    <tr style=\"text-align: right;\">\n",
       "      <th></th>\n",
       "      <th>SepalLengthCm</th>\n",
       "      <th>SepalWidthCm</th>\n",
       "      <th>PetalLengthCm</th>\n",
       "      <th>PetalWidthCm</th>\n",
       "      <th>Species</th>\n",
       "    </tr>\n",
       "  </thead>\n",
       "  <tbody>\n",
       "    <tr>\n",
       "      <th>0</th>\n",
       "      <td>5.1</td>\n",
       "      <td>3.5</td>\n",
       "      <td>1.4</td>\n",
       "      <td>0.2</td>\n",
       "      <td>0</td>\n",
       "    </tr>\n",
       "    <tr>\n",
       "      <th>1</th>\n",
       "      <td>4.9</td>\n",
       "      <td>3.0</td>\n",
       "      <td>1.4</td>\n",
       "      <td>0.2</td>\n",
       "      <td>0</td>\n",
       "    </tr>\n",
       "    <tr>\n",
       "      <th>2</th>\n",
       "      <td>4.7</td>\n",
       "      <td>3.2</td>\n",
       "      <td>1.3</td>\n",
       "      <td>0.2</td>\n",
       "      <td>0</td>\n",
       "    </tr>\n",
       "    <tr>\n",
       "      <th>3</th>\n",
       "      <td>4.6</td>\n",
       "      <td>3.1</td>\n",
       "      <td>1.5</td>\n",
       "      <td>0.2</td>\n",
       "      <td>0</td>\n",
       "    </tr>\n",
       "    <tr>\n",
       "      <th>4</th>\n",
       "      <td>5.0</td>\n",
       "      <td>3.6</td>\n",
       "      <td>1.4</td>\n",
       "      <td>0.2</td>\n",
       "      <td>0</td>\n",
       "    </tr>\n",
       "  </tbody>\n",
       "</table>\n",
       "</div>"
      ],
      "text/plain": [
       "   SepalLengthCm  SepalWidthCm  PetalLengthCm  PetalWidthCm  Species\n",
       "0            5.1           3.5            1.4           0.2        0\n",
       "1            4.9           3.0            1.4           0.2        0\n",
       "2            4.7           3.2            1.3           0.2        0\n",
       "3            4.6           3.1            1.5           0.2        0\n",
       "4            5.0           3.6            1.4           0.2        0"
      ]
     },
     "execution_count": 23,
     "metadata": {},
     "output_type": "execute_result"
    }
   ],
   "source": [
    "data.head()"
   ]
  },
  {
   "cell_type": "code",
   "execution_count": 24,
   "id": "e5d1009c",
   "metadata": {},
   "outputs": [],
   "source": [
    "from sklearn.model_selection import train_test_split\n",
    "x = data.drop('Species', axis=1)\n",
    "y = data['Species']\n",
    "x_train, x_test, y_train, y_test = train_test_split(x, y, test_size=0.3)"
   ]
  },
  {
   "cell_type": "code",
   "execution_count": 41,
   "id": "c58fc2fe",
   "metadata": {},
   "outputs": [],
   "source": [
    "from sklearn.preprocessing import StandardScaler\n",
    "sc = StandardScaler()\n",
    "x_train = sc.fit_transform(x_train)\n",
    "x_test = sc.transform(x_test)"
   ]
  },
  {
   "cell_type": "markdown",
   "id": "678d1484",
   "metadata": {},
   "source": [
    "**TRAINING THE MODEL**"
   ]
  },
  {
   "cell_type": "code",
   "execution_count": 42,
   "id": "03e9a4a6",
   "metadata": {},
   "outputs": [
    {
     "data": {
      "text/plain": [
       "LogisticRegression()"
      ]
     },
     "execution_count": 42,
     "metadata": {},
     "output_type": "execute_result"
    }
   ],
   "source": [
    "from sklearn.linear_model import LogisticRegression\n",
    "model = LogisticRegression()\n",
    "model.fit(x_train, y_train)\n"
   ]
  },
  {
   "cell_type": "code",
   "execution_count": 43,
   "id": "f449718a",
   "metadata": {},
   "outputs": [
    {
     "name": "stdout",
     "output_type": "stream",
     "text": [
      "Accuracy 1.0\n"
     ]
    }
   ],
   "source": [
    "print(\"Accuracy\", model.score(x_test, y_test))"
   ]
  },
  {
   "cell_type": "markdown",
   "id": "5e8d0c68",
   "metadata": {},
   "source": [
    "**as we got the accuracy as 100 percent hence lets train the data in the logistic regression**"
   ]
  },
  {
   "cell_type": "code",
   "execution_count": 44,
   "id": "3b860317",
   "metadata": {},
   "outputs": [],
   "source": [
    "y = np.array(y)"
   ]
  },
  {
   "cell_type": "code",
   "execution_count": 45,
   "id": "20198cf2",
   "metadata": {},
   "outputs": [
    {
     "data": {
      "text/plain": [
       "array([0, 0, 0, 0, 0, 0, 0, 0, 0, 0, 0, 0, 0, 0, 0, 0, 0, 0, 0, 0, 0, 0,\n",
       "       0, 0, 0, 0, 0, 0, 0, 0, 0, 0, 0, 0, 0, 0, 0, 0, 0, 0, 0, 0, 0, 0,\n",
       "       0, 0, 0, 0, 0, 0, 1, 1, 1, 1, 1, 1, 1, 1, 1, 1, 1, 1, 1, 1, 1, 1,\n",
       "       1, 1, 1, 1, 1, 1, 1, 1, 1, 1, 1, 1, 1, 1, 1, 1, 1, 1, 1, 1, 1, 1,\n",
       "       1, 1, 1, 1, 1, 1, 1, 1, 1, 1, 1, 1, 2, 2, 2, 2, 2, 2, 2, 2, 2, 2,\n",
       "       2, 2, 2, 2, 2, 2, 2, 2, 2, 2, 2, 2, 2, 2, 2, 2, 2, 2, 2, 2, 2, 2,\n",
       "       2, 2, 2, 2, 2, 2, 2, 2, 2, 2, 2, 2, 2, 2, 2, 2, 2, 2])"
      ]
     },
     "execution_count": 45,
     "metadata": {},
     "output_type": "execute_result"
    }
   ],
   "source": [
    "y"
   ]
  },
  {
   "cell_type": "code",
   "execution_count": 46,
   "id": "5c0a5a19",
   "metadata": {},
   "outputs": [
    {
     "data": {
      "text/plain": [
       "array([[-9.29929724e-01,  1.04140528e+00, -1.36612302e+00,\n",
       "        -1.33225650e+00],\n",
       "       [-1.17464807e+00, -1.04795500e-01, -1.36612302e+00,\n",
       "        -1.33225650e+00],\n",
       "       [-1.41936642e+00,  3.53684814e-01, -1.42299967e+00,\n",
       "        -1.33225650e+00],\n",
       "       [-1.54172560e+00,  1.24444657e-01, -1.30924637e+00,\n",
       "        -1.33225650e+00],\n",
       "       [-1.05228890e+00,  1.27064544e+00, -1.36612302e+00,\n",
       "        -1.33225650e+00],\n",
       "       [-5.62852202e-01,  1.95836591e+00, -1.19549306e+00,\n",
       "        -1.07102974e+00],\n",
       "       [-1.54172560e+00,  8.12165128e-01, -1.36612302e+00,\n",
       "        -1.20164312e+00],\n",
       "       [-1.05228890e+00,  8.12165128e-01, -1.30924637e+00,\n",
       "        -1.33225650e+00],\n",
       "       [-1.78644394e+00, -3.34035657e-01, -1.36612302e+00,\n",
       "        -1.33225650e+00],\n",
       "       [-1.17464807e+00,  1.24444657e-01, -1.30924637e+00,\n",
       "        -1.46286989e+00],\n",
       "       [-5.62852202e-01,  1.49988560e+00, -1.30924637e+00,\n",
       "        -1.33225650e+00],\n",
       "       [-1.29700725e+00,  8.12165128e-01, -1.25236972e+00,\n",
       "        -1.33225650e+00],\n",
       "       [-1.29700725e+00, -1.04795500e-01, -1.36612302e+00,\n",
       "        -1.46286989e+00],\n",
       "       [-1.90880312e+00, -1.04795500e-01, -1.53675298e+00,\n",
       "        -1.46286989e+00],\n",
       "       [-7.34155046e-02,  2.18760607e+00, -1.47987632e+00,\n",
       "        -1.33225650e+00],\n",
       "       [-1.95774679e-01,  3.10456670e+00, -1.30924637e+00,\n",
       "        -1.07102974e+00],\n",
       "       [-5.62852202e-01,  1.95836591e+00, -1.42299967e+00,\n",
       "        -1.07102974e+00],\n",
       "       [-9.29929724e-01,  1.04140528e+00, -1.36612302e+00,\n",
       "        -1.20164312e+00],\n",
       "       [-1.95774679e-01,  1.72912576e+00, -1.19549306e+00,\n",
       "        -1.20164312e+00],\n",
       "       [-9.29929724e-01,  1.72912576e+00, -1.30924637e+00,\n",
       "        -1.20164312e+00],\n",
       "       [-5.62852202e-01,  8.12165128e-01, -1.19549306e+00,\n",
       "        -1.33225650e+00],\n",
       "       [-9.29929724e-01,  1.49988560e+00, -1.30924637e+00,\n",
       "        -1.07102974e+00],\n",
       "       [-1.54172560e+00,  1.27064544e+00, -1.59362963e+00,\n",
       "        -1.33225650e+00],\n",
       "       [-9.29929724e-01,  5.82924971e-01, -1.19549306e+00,\n",
       "        -9.40416355e-01],\n",
       "       [-1.29700725e+00,  8.12165128e-01, -1.08173976e+00,\n",
       "        -1.33225650e+00],\n",
       "       [-1.05228890e+00, -1.04795500e-01, -1.25236972e+00,\n",
       "        -1.33225650e+00],\n",
       "       [-1.05228890e+00,  8.12165128e-01, -1.25236972e+00,\n",
       "        -1.07102974e+00],\n",
       "       [-8.07570550e-01,  1.04140528e+00, -1.30924637e+00,\n",
       "        -1.33225650e+00],\n",
       "       [-8.07570550e-01,  8.12165128e-01, -1.36612302e+00,\n",
       "        -1.33225650e+00],\n",
       "       [-1.41936642e+00,  3.53684814e-01, -1.25236972e+00,\n",
       "        -1.33225650e+00],\n",
       "       [-1.29700725e+00,  1.24444657e-01, -1.25236972e+00,\n",
       "        -1.33225650e+00],\n",
       "       [-5.62852202e-01,  8.12165128e-01, -1.30924637e+00,\n",
       "        -1.07102974e+00],\n",
       "       [-8.07570550e-01,  2.41684623e+00, -1.30924637e+00,\n",
       "        -1.46286989e+00],\n",
       "       [-4.40493027e-01,  2.64608638e+00, -1.36612302e+00,\n",
       "        -1.33225650e+00],\n",
       "       [-1.17464807e+00,  1.24444657e-01, -1.30924637e+00,\n",
       "        -1.46286989e+00],\n",
       "       [-1.05228890e+00,  3.53684814e-01, -1.47987632e+00,\n",
       "        -1.33225650e+00],\n",
       "       [-4.40493027e-01,  1.04140528e+00, -1.42299967e+00,\n",
       "        -1.33225650e+00],\n",
       "       [-1.17464807e+00,  1.24444657e-01, -1.30924637e+00,\n",
       "        -1.46286989e+00],\n",
       "       [-1.78644394e+00, -1.04795500e-01, -1.42299967e+00,\n",
       "        -1.33225650e+00],\n",
       "       [-9.29929724e-01,  8.12165128e-01, -1.30924637e+00,\n",
       "        -1.33225650e+00],\n",
       "       [-1.05228890e+00,  1.04140528e+00, -1.42299967e+00,\n",
       "        -1.20164312e+00],\n",
       "       [-1.66408477e+00, -1.70947660e+00, -1.42299967e+00,\n",
       "        -1.20164312e+00],\n",
       "       [-1.78644394e+00,  3.53684814e-01, -1.42299967e+00,\n",
       "        -1.33225650e+00],\n",
       "       [-1.05228890e+00,  1.04140528e+00, -1.25236972e+00,\n",
       "        -8.09802972e-01],\n",
       "       [-9.29929724e-01,  1.72912576e+00, -1.08173976e+00,\n",
       "        -1.07102974e+00],\n",
       "       [-1.29700725e+00, -1.04795500e-01, -1.36612302e+00,\n",
       "        -1.20164312e+00],\n",
       "       [-9.29929724e-01,  1.72912576e+00, -1.25236972e+00,\n",
       "        -1.33225650e+00],\n",
       "       [-1.54172560e+00,  3.53684814e-01, -1.36612302e+00,\n",
       "        -1.33225650e+00],\n",
       "       [-6.85211376e-01,  1.49988560e+00, -1.30924637e+00,\n",
       "        -1.33225650e+00],\n",
       "       [-1.05228890e+00,  5.82924971e-01, -1.36612302e+00,\n",
       "        -1.33225650e+00],\n",
       "       [ 1.39489459e+00,  3.53684814e-01,  5.10806506e-01,\n",
       "         2.35104089e-01],\n",
       "       [ 6.60739541e-01,  3.53684814e-01,  3.97053201e-01,\n",
       "         3.65717471e-01],\n",
       "       [ 1.27253541e+00,  1.24444657e-01,  6.24559811e-01,\n",
       "         3.65717471e-01],\n",
       "       [-4.40493027e-01, -1.70947660e+00,  1.12669940e-01,\n",
       "         1.04490706e-01],\n",
       "       [ 7.83098715e-01, -5.63275814e-01,  4.53929854e-01,\n",
       "         3.65717471e-01],\n",
       "       [-1.95774679e-01, -5.63275814e-01,  3.97053201e-01,\n",
       "         1.04490706e-01],\n",
       "       [ 5.38380367e-01,  5.82924971e-01,  5.10806506e-01,\n",
       "         4.96330854e-01],\n",
       "       [-1.17464807e+00, -1.48023644e+00, -2.85466626e-01,\n",
       "        -2.87349442e-01],\n",
       "       [ 9.05457889e-01, -3.34035657e-01,  4.53929854e-01,\n",
       "         1.04490706e-01],\n",
       "       [-8.07570550e-01, -7.92515971e-01,  5.57932875e-02,\n",
       "         2.35104089e-01],\n",
       "       [-1.05228890e+00, -2.39719707e+00, -1.71713322e-01,\n",
       "        -2.87349442e-01],\n",
       "       [ 4.89436697e-02, -1.04795500e-01,  2.26423244e-01,\n",
       "         3.65717471e-01],\n",
       "       [ 1.71302844e-01, -1.93871676e+00,  1.12669940e-01,\n",
       "        -2.87349442e-01],\n",
       "       [ 2.93662018e-01, -3.34035657e-01,  5.10806506e-01,\n",
       "         2.35104089e-01],\n",
       "       [-3.18133853e-01, -3.34035657e-01, -1.14836669e-01,\n",
       "         1.04490706e-01],\n",
       "       [ 1.02781706e+00,  1.24444657e-01,  3.40176549e-01,\n",
       "         2.35104089e-01],\n",
       "       [-3.18133853e-01, -1.04795500e-01,  3.97053201e-01,\n",
       "         3.65717471e-01],\n",
       "       [-7.34155046e-02, -7.92515971e-01,  1.69546592e-01,\n",
       "        -2.87349442e-01],\n",
       "       [ 4.16021192e-01, -1.93871676e+00,  3.97053201e-01,\n",
       "         3.65717471e-01],\n",
       "       [-3.18133853e-01, -1.25099629e+00,  5.57932875e-02,\n",
       "        -1.56736059e-01],\n",
       "       [ 4.89436697e-02,  3.53684814e-01,  5.67683158e-01,\n",
       "         7.57557619e-01],\n",
       "       [ 2.93662018e-01, -5.63275814e-01,  1.12669940e-01,\n",
       "         1.04490706e-01],\n",
       "       [ 5.38380367e-01, -1.25099629e+00,  6.24559811e-01,\n",
       "         3.65717471e-01],\n",
       "       [ 2.93662018e-01, -5.63275814e-01,  5.10806506e-01,\n",
       "        -2.61226765e-02],\n",
       "       [ 6.60739541e-01, -3.34035657e-01,  2.83299897e-01,\n",
       "         1.04490706e-01],\n",
       "       [ 9.05457889e-01, -1.04795500e-01,  3.40176549e-01,\n",
       "         2.35104089e-01],\n",
       "       [ 1.15017624e+00, -5.63275814e-01,  5.67683158e-01,\n",
       "         2.35104089e-01],\n",
       "       [ 1.02781706e+00, -1.04795500e-01,  6.81436463e-01,\n",
       "         6.26944237e-01],\n",
       "       [ 1.71302844e-01, -3.34035657e-01,  3.97053201e-01,\n",
       "         3.65717471e-01],\n",
       "       [-1.95774679e-01, -1.02175613e+00, -1.71713322e-01,\n",
       "        -2.87349442e-01],\n",
       "       [-4.40493027e-01, -1.48023644e+00, -1.08336481e-03,\n",
       "        -1.56736059e-01],\n",
       "       [-4.40493027e-01, -1.48023644e+00, -5.79600171e-02,\n",
       "        -2.87349442e-01],\n",
       "       [-7.34155046e-02, -7.92515971e-01,  5.57932875e-02,\n",
       "        -2.61226765e-02],\n",
       "       [ 1.71302844e-01, -7.92515971e-01,  7.38313115e-01,\n",
       "         4.96330854e-01],\n",
       "       [-5.62852202e-01, -1.04795500e-01,  3.97053201e-01,\n",
       "         3.65717471e-01],\n",
       "       [ 1.71302844e-01,  8.12165128e-01,  3.97053201e-01,\n",
       "         4.96330854e-01],\n",
       "       [ 1.02781706e+00,  1.24444657e-01,  5.10806506e-01,\n",
       "         3.65717471e-01],\n",
       "       [ 5.38380367e-01, -1.70947660e+00,  3.40176549e-01,\n",
       "         1.04490706e-01],\n",
       "       [-3.18133853e-01, -1.04795500e-01,  1.69546592e-01,\n",
       "         1.04490706e-01],\n",
       "       [-4.40493027e-01, -1.25099629e+00,  1.12669940e-01,\n",
       "         1.04490706e-01],\n",
       "       [-4.40493027e-01, -1.02175613e+00,  3.40176549e-01,\n",
       "        -2.61226765e-02],\n",
       "       [ 2.93662018e-01, -1.04795500e-01,  4.53929854e-01,\n",
       "         2.35104089e-01],\n",
       "       [-7.34155046e-02, -1.02175613e+00,  1.12669940e-01,\n",
       "        -2.61226765e-02],\n",
       "       [-1.05228890e+00, -1.70947660e+00, -2.85466626e-01,\n",
       "        -2.87349442e-01],\n",
       "       [-3.18133853e-01, -7.92515971e-01,  2.26423244e-01,\n",
       "         1.04490706e-01],\n",
       "       [-1.95774679e-01, -1.04795500e-01,  2.26423244e-01,\n",
       "        -2.61226765e-02],\n",
       "       [-1.95774679e-01, -3.34035657e-01,  2.26423244e-01,\n",
       "         1.04490706e-01],\n",
       "       [ 4.16021192e-01, -3.34035657e-01,  2.83299897e-01,\n",
       "         1.04490706e-01],\n",
       "       [-9.29929724e-01, -1.25099629e+00, -4.56096583e-01,\n",
       "        -1.56736059e-01],\n",
       "       [-1.95774679e-01, -5.63275814e-01,  1.69546592e-01,\n",
       "         1.04490706e-01],\n",
       "       [ 5.38380367e-01,  5.82924971e-01,  1.25020299e+00,\n",
       "         1.67185130e+00],\n",
       "       [-7.34155046e-02, -7.92515971e-01,  7.38313115e-01,\n",
       "         8.88171002e-01],\n",
       "       [ 1.51725376e+00, -1.04795500e-01,  1.19332633e+00,\n",
       "         1.14939777e+00],\n",
       "       [ 5.38380367e-01, -3.34035657e-01,  1.02269638e+00,\n",
       "         7.57557619e-01],\n",
       "       [ 7.83098715e-01, -1.04795500e-01,  1.13644968e+00,\n",
       "         1.28001115e+00],\n",
       "       [ 2.12904963e+00, -1.04795500e-01,  1.59146290e+00,\n",
       "         1.14939777e+00],\n",
       "       [-1.17464807e+00, -1.25099629e+00,  3.97053201e-01,\n",
       "         6.26944237e-01],\n",
       "       [ 1.76197211e+00, -3.34035657e-01,  1.42083294e+00,\n",
       "         7.57557619e-01],\n",
       "       [ 1.02781706e+00, -1.25099629e+00,  1.13644968e+00,\n",
       "         7.57557619e-01],\n",
       "       [ 1.63961294e+00,  1.27064544e+00,  1.30707964e+00,\n",
       "         1.67185130e+00],\n",
       "       [ 7.83098715e-01,  3.53684814e-01,  7.38313115e-01,\n",
       "         1.01878438e+00],\n",
       "       [ 6.60739541e-01, -7.92515971e-01,  8.52066420e-01,\n",
       "         8.88171002e-01],\n",
       "       [ 1.15017624e+00, -1.04795500e-01,  9.65819724e-01,\n",
       "         1.14939777e+00],\n",
       "       [-1.95774679e-01, -1.25099629e+00,  6.81436463e-01,\n",
       "         1.01878438e+00],\n",
       "       [-7.34155046e-02, -5.63275814e-01,  7.38313115e-01,\n",
       "         1.54123792e+00],\n",
       "       [ 6.60739541e-01,  3.53684814e-01,  8.52066420e-01,\n",
       "         1.41062453e+00],\n",
       "       [ 7.83098715e-01, -1.04795500e-01,  9.65819724e-01,\n",
       "         7.57557619e-01],\n",
       "       [ 2.25140881e+00,  1.72912576e+00,  1.64833955e+00,\n",
       "         1.28001115e+00],\n",
       "       [ 2.25140881e+00, -1.02175613e+00,  1.76209286e+00,\n",
       "         1.41062453e+00],\n",
       "       [ 1.71302844e-01, -1.93871676e+00,  6.81436463e-01,\n",
       "         3.65717471e-01],\n",
       "       [ 1.27253541e+00,  3.53684814e-01,  1.07957303e+00,\n",
       "         1.41062453e+00],\n",
       "       [-3.18133853e-01, -5.63275814e-01,  6.24559811e-01,\n",
       "         1.01878438e+00],\n",
       "       [ 2.25140881e+00, -5.63275814e-01,  1.64833955e+00,\n",
       "         1.01878438e+00],\n",
       "       [ 5.38380367e-01, -7.92515971e-01,  6.24559811e-01,\n",
       "         7.57557619e-01],\n",
       "       [ 1.02781706e+00,  5.82924971e-01,  1.07957303e+00,\n",
       "         1.14939777e+00],\n",
       "       [ 1.63961294e+00,  3.53684814e-01,  1.25020299e+00,\n",
       "         7.57557619e-01],\n",
       "       [ 4.16021192e-01, -5.63275814e-01,  5.67683158e-01,\n",
       "         7.57557619e-01],\n",
       "       [ 2.93662018e-01, -1.04795500e-01,  6.24559811e-01,\n",
       "         7.57557619e-01],\n",
       "       [ 6.60739541e-01, -5.63275814e-01,  1.02269638e+00,\n",
       "         1.14939777e+00],\n",
       "       [ 1.63961294e+00, -1.04795500e-01,  1.13644968e+00,\n",
       "         4.96330854e-01],\n",
       "       [ 1.88433128e+00, -5.63275814e-01,  1.30707964e+00,\n",
       "         8.88171002e-01],\n",
       "       [ 2.49612715e+00,  1.72912576e+00,  1.47770960e+00,\n",
       "         1.01878438e+00],\n",
       "       [ 6.60739541e-01, -5.63275814e-01,  1.02269638e+00,\n",
       "         1.28001115e+00],\n",
       "       [ 5.38380367e-01, -5.63275814e-01,  7.38313115e-01,\n",
       "         3.65717471e-01],\n",
       "       [ 2.93662018e-01, -1.02175613e+00,  1.02269638e+00,\n",
       "         2.35104089e-01],\n",
       "       [ 2.25140881e+00, -1.04795500e-01,  1.30707964e+00,\n",
       "         1.41062453e+00],\n",
       "       [ 5.38380367e-01,  8.12165128e-01,  1.02269638e+00,\n",
       "         1.54123792e+00],\n",
       "       [ 6.60739541e-01,  1.24444657e-01,  9.65819724e-01,\n",
       "         7.57557619e-01],\n",
       "       [ 1.71302844e-01, -1.04795500e-01,  5.67683158e-01,\n",
       "         7.57557619e-01],\n",
       "       [ 1.27253541e+00,  1.24444657e-01,  9.08943072e-01,\n",
       "         1.14939777e+00],\n",
       "       [ 1.02781706e+00,  1.24444657e-01,  1.02269638e+00,\n",
       "         1.54123792e+00],\n",
       "       [ 1.27253541e+00,  1.24444657e-01,  7.38313115e-01,\n",
       "         1.41062453e+00],\n",
       "       [-7.34155046e-02, -7.92515971e-01,  7.38313115e-01,\n",
       "         8.88171002e-01],\n",
       "       [ 1.15017624e+00,  3.53684814e-01,  1.19332633e+00,\n",
       "         1.41062453e+00],\n",
       "       [ 1.02781706e+00,  5.82924971e-01,  1.07957303e+00,\n",
       "         1.67185130e+00],\n",
       "       [ 1.02781706e+00, -1.04795500e-01,  7.95189768e-01,\n",
       "         1.41062453e+00],\n",
       "       [ 5.38380367e-01, -1.25099629e+00,  6.81436463e-01,\n",
       "         8.88171002e-01],\n",
       "       [ 7.83098715e-01, -1.04795500e-01,  7.95189768e-01,\n",
       "         1.01878438e+00],\n",
       "       [ 4.16021192e-01,  8.12165128e-01,  9.08943072e-01,\n",
       "         1.41062453e+00],\n",
       "       [ 4.89436697e-02, -1.04795500e-01,  7.38313115e-01,\n",
       "         7.57557619e-01]])"
      ]
     },
     "execution_count": 46,
     "metadata": {},
     "output_type": "execute_result"
    }
   ],
   "source": [
    "sc.transform(x)"
   ]
  },
  {
   "cell_type": "code",
   "execution_count": 48,
   "id": "96c7063e",
   "metadata": {},
   "outputs": [
    {
     "name": "stderr",
     "output_type": "stream",
     "text": [
      "c:\\users\\hp\\appdata\\local\\programs\\python\\python39\\lib\\site-packages\\sklearn\\base.py:445: UserWarning: X does not have valid feature names, but StandardScaler was fitted with feature names\n",
      "  warnings.warn(\n",
      "c:\\users\\hp\\appdata\\local\\programs\\python\\python39\\lib\\site-packages\\sklearn\\base.py:445: UserWarning: X does not have valid feature names, but LogisticRegression was fitted with feature names\n",
      "  warnings.warn(\n"
     ]
    },
    {
     "data": {
      "text/plain": [
       "array([0])"
      ]
     },
     "execution_count": 48,
     "metadata": {},
     "output_type": "execute_result"
    }
   ],
   "source": [
    "le = LogisticRegression()\n",
    "le.fit(x,y)\n",
    "import joblib\n",
    "joblib.dump(le, 'iris')\n",
    "model= joblib.load('iris')\n",
    "model.predict(sc.transform([[4.5,1.2,2.4,3.0]]))"
   ]
  },
  {
   "cell_type": "code",
   "execution_count": null,
   "id": "d877846d",
   "metadata": {},
   "outputs": [],
   "source": []
  }
 ],
 "metadata": {
  "kernelspec": {
   "display_name": "Python 3 (ipykernel)",
   "language": "python",
   "name": "python3"
  },
  "language_info": {
   "codemirror_mode": {
    "name": "ipython",
    "version": 3
   },
   "file_extension": ".py",
   "mimetype": "text/x-python",
   "name": "python",
   "nbconvert_exporter": "python",
   "pygments_lexer": "ipython3",
   "version": "3.9.0"
  }
 },
 "nbformat": 4,
 "nbformat_minor": 5
}
